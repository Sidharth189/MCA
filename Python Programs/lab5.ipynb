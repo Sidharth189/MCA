{
 "cells": [
  {
   "cell_type": "code",
   "execution_count": 13,
   "metadata": {},
   "outputs": [],
   "source": [
    "import pandas as pd"
   ]
  },
  {
   "cell_type": "code",
   "execution_count": 14,
   "metadata": {},
   "outputs": [],
   "source": [
    "df=pd.read_csv('auto.csv')"
   ]
  },
  {
   "cell_type": "code",
   "execution_count": 15,
   "metadata": {},
   "outputs": [
    {
     "name": "stdout",
     "output_type": "stream",
     "text": [
      "    index    company   body-style  wheel-base  length engine-type  num-of-cylinders  horsepower  average-mileage    price\n",
      "0     1.0     Toyota        Sedan       108.1   188.8          V6               6.0       190.0             28.0  22000.0\n",
      "1     2.0      Honda    Hatchback        97.0   169.1          I4               4.0       150.0             32.0  18000.0\n",
      "2     3.0       Ford          SUV       112.5   189.7          V8               8.0       300.0             22.0  35000.0\n",
      "3     4.0        BMW        Coupe       101.2   174.5   In-line-6               6.0       250.0             26.0  45000.0\n",
      "4     5.0       Audi  Convertible       104.5   179.5          V6               6.0         NaN             27.0  40000.0\n",
      "5     6.0  Chevrolet  Convertible       100.4   171.0          V8               8.0       350.0             24.0      NaN\n",
      "6     7.0   Mercedes        sedan       108.7   193.2          V8               8.0       400.0             21.0  55000.0\n",
      "7     8.0     Nissan    Hatchback        99.0   170.4          I4               4.0       180.0             30.0  25000.0\n",
      "8     9.0     Subaru        Wagon       104.1   184.3     Boxer-4               4.0       170.0             25.0  27000.0\n",
      "9    10.0      Tesla        Sedan       116.5   191.2    Electric               0.0       450.0            130.0  60000.0\n",
      "10   11.0       Ford    Hatchback        98.0   171.0          I4               4.0       160.0             29.0  19000.0\n",
      "11   12.0     Toyota          SUV       110.0   182.0          V6               6.0       210.0             26.0  24000.0\n",
      "12   13.0  Chevrolet        Sedan       104.3   178.5          I4               4.0       130.0             33.0  16000.0\n",
      "13   14.0      Honda        Coupe        98.5   175.2          I4               4.0       145.0             32.0  20000.0\n",
      "14   15.0        BMW        Sedan       105.0   179.1   In-line-6               6.0         NaN             28.0  46000.0\n",
      "15   16.0       Audi  Convertible        99.5   171.8          I4               4.0       190.0             27.0  42000.0\n",
      "16   17.0   Mercedes        Coupe       102.5   176.3          V8               8.0       300.0             24.0  52000.0\n",
      "17   18.0      Tesla          SUV       116.0   193.8    Electric               0.0       500.0            120.0  75000.0\n",
      "18   19.0     Nissan        Sedan       104.0   179.0          I4               4.0       170.0             30.0  23000.0\n",
      "19   20.0     Toyota        Wagon       104.8   182.4          V6               6.0       210.0             25.0  28000.0\n",
      "20   21.0        Kia        Sedan       107.2   184.5          I4               4.0       180.0             32.0  22000.0\n",
      "21   22.0     Subaru          SUV       111.0   183.7     Boxer-4               4.0       200.0             22.0  33000.0\n",
      "22   23.0       Ford        Sedan       106.8   178.0          V6               6.0       240.0             27.0  26000.0\n",
      "23   24.0  Chevrolet          SUV       112.0   189.0          V6               6.0       250.0             20.0  34000.0\n",
      "24   25.0       Audi    Hatchback        98.5   170.8          I4               4.0       160.0             29.0  21000.0\n",
      "25   26.0        BMW  Convertible       101.5   174.7   In-line-6               6.0       270.0             25.0  47000.0\n",
      "26   27.0      Honda        Wagon       104.3   183.4          I4               4.0       190.0             31.0  23000.0\n",
      "27   28.0     Nissan          SUV       110.1   188.0          V6               6.0       220.0             24.0  31000.0\n",
      "28   29.0     Toyota        Sedan       106.4   176.5          I4               4.0       160.0             33.0  18000.0\n",
      "29   30.0      Honda          SUV       109.8   183.2          V6               6.0       230.0             26.0  33000.0\n",
      "30   31.0       Ford        Sedan       107.5   179.9          V6               6.0       210.0             28.0  24000.0\n",
      "31   32.0     Subaru        Sedan       106.0   174.5     Boxer-4               4.0       150.0             30.0  20000.0\n",
      "32   33.0   Mercedes        Wagon       111.4   193.0          V8               8.0       350.0             23.0  45000.0\n",
      "33   34.0      Tesla        Coupe       115.3   191.5    Electric               0.0       400.0            130.0  65000.0\n",
      "34   35.0        Kia    Hatchback        98.3   169.9          I4               4.0       130.0             34.0  18000.0\n",
      "35   36.0   Chrysler          SUV       113.2   188.0          V6               6.0       260.0             22.0  35000.0\n",
      "36   37.0     Nissan  Convertible        99.8   171.5          I4               4.0       175.0             29.0  22000.0\n",
      "37   38.0       Audi          SUV       110.0   180.4          V6               6.0       240.0             23.0  38000.0\n",
      "38   39.0       Ford        Wagon       107.8   184.2          V8               8.0       350.0             21.0  40000.0\n",
      "39   40.0  Chevrolet        Sedan       105.6   178.2          I4               4.0       150.0             31.0  21000.0\n",
      "40   41.0     Toyota        Coupe       101.2   173.8          I4               4.0       170.0             32.0  25000.0\n",
      "41   42.0      Honda        Sedan       108.1   182.9          I4               4.0       180.0             29.0  24000.0\n",
      "42   43.0        BMW          SUV       112.3   185.7    Inline-6               6.0       280.0             24.0  50000.0\n",
      "43   44.0  Chevrolet    Hatchback       100.0   170.0          I4               4.0       160.0             30.0  20000.0\n",
      "44   45.0     Nissan        Coupe        99.2   170.7          I4               4.0       150.0             34.0  18000.0\n",
      "45   46.0      Tesla          SUV       116.7   192.3    Electric               0.0       480.0            120.0  70000.0\n",
      "46   47.0       Ford  Convertible       102.5   174.0          V8               8.0       400.0             20.0  38000.0\n",
      "47   48.0        BMW        Sedan       103.8   179.3   In-line-6               6.0       260.0             25.0  47000.0\n",
      "48   49.0       Audi        Coupe       105.2   181.4          I4               4.0       180.0             28.0  42000.0\n",
      "49   50.0  Chevrolet        Wagon       110.2   185.6          V6               6.0       220.0             22.0  32000.0\n",
      "50    1.0     Toyota        Sedan       108.1   188.8          V6               6.0       190.0             28.0  22000.0\n",
      "51    2.0     Toyota        Sedan         NaN     NaN          V6               6.0       190.0             28.0      NaN\n",
      "52    5.0       Audi  Convertible       104.5   179.5          V6               6.0         NaN             27.0  40000.0\n",
      "53    8.0     Nissan    Hatchback        99.0   170.4          I4               4.0       180.0             30.0  25000.0\n",
      "54    NaN        NaN          NaN         NaN     NaN         NaN               NaN         NaN              NaN      NaN\n",
      "55    6.0  Chevrolet  Convertible       100.4   171.0          V8               8.0       350.0             24.0      NaN\n"
     ]
    }
   ],
   "source": [
    "print(df.to_string())"
   ]
  },
  {
   "cell_type": "code",
   "execution_count": 16,
   "metadata": {},
   "outputs": [
    {
     "name": "stdout",
     "output_type": "stream",
     "text": [
      "<class 'pandas.core.frame.DataFrame'>\n",
      "RangeIndex: 56 entries, 0 to 55\n",
      "Data columns (total 10 columns):\n",
      " #   Column            Non-Null Count  Dtype  \n",
      "---  ------            --------------  -----  \n",
      " 0   index             55 non-null     float64\n",
      " 1   company           55 non-null     object \n",
      " 2   body-style        55 non-null     object \n",
      " 3   wheel-base        54 non-null     float64\n",
      " 4   length            54 non-null     float64\n",
      " 5   engine-type       55 non-null     object \n",
      " 6   num-of-cylinders  55 non-null     float64\n",
      " 7   horsepower        52 non-null     float64\n",
      " 8   average-mileage   55 non-null     float64\n",
      " 9   price             52 non-null     float64\n",
      "dtypes: float64(7), object(3)\n",
      "memory usage: 4.5+ KB\n",
      "None\n"
     ]
    }
   ],
   "source": [
    "print(df.info())"
   ]
  },
  {
   "cell_type": "code",
   "execution_count": 17,
   "metadata": {},
   "outputs": [
    {
     "name": "stdout",
     "output_type": "stream",
     "text": [
      "0     False\n",
      "1     False\n",
      "2     False\n",
      "3     False\n",
      "4     False\n",
      "5     False\n",
      "6     False\n",
      "7     False\n",
      "8     False\n",
      "9     False\n",
      "10    False\n",
      "11    False\n",
      "12    False\n",
      "13    False\n",
      "14    False\n",
      "15    False\n",
      "16    False\n",
      "17    False\n",
      "18    False\n",
      "19    False\n",
      "20    False\n",
      "21    False\n",
      "22    False\n",
      "23    False\n",
      "24    False\n",
      "25    False\n",
      "26    False\n",
      "27    False\n",
      "28    False\n",
      "29    False\n",
      "30    False\n",
      "31    False\n",
      "32    False\n",
      "33    False\n",
      "34    False\n",
      "35    False\n",
      "36    False\n",
      "37    False\n",
      "38    False\n",
      "39    False\n",
      "40    False\n",
      "41    False\n",
      "42    False\n",
      "43    False\n",
      "44    False\n",
      "45    False\n",
      "46    False\n",
      "47    False\n",
      "48    False\n",
      "49    False\n",
      "50     True\n",
      "51    False\n",
      "52     True\n",
      "53     True\n",
      "54    False\n",
      "55     True\n",
      "dtype: bool\n"
     ]
    }
   ],
   "source": [
    "print(df.duplicated())"
   ]
  },
  {
   "cell_type": "code",
   "execution_count": 18,
   "metadata": {},
   "outputs": [
    {
     "name": "stdout",
     "output_type": "stream",
     "text": [
      "0     False\n",
      "1     False\n",
      "2     False\n",
      "3     False\n",
      "4     False\n",
      "5     False\n",
      "6     False\n",
      "7     False\n",
      "8     False\n",
      "9     False\n",
      "10    False\n",
      "11    False\n",
      "12    False\n",
      "13    False\n",
      "14    False\n",
      "15    False\n",
      "16    False\n",
      "17    False\n",
      "18    False\n",
      "19    False\n",
      "20    False\n",
      "21    False\n",
      "22    False\n",
      "23    False\n",
      "24    False\n",
      "25    False\n",
      "26    False\n",
      "27    False\n",
      "28    False\n",
      "29    False\n",
      "30    False\n",
      "31    False\n",
      "32    False\n",
      "33    False\n",
      "34    False\n",
      "35    False\n",
      "36    False\n",
      "37    False\n",
      "38    False\n",
      "39    False\n",
      "40    False\n",
      "41    False\n",
      "42    False\n",
      "43    False\n",
      "44    False\n",
      "45    False\n",
      "46    False\n",
      "47    False\n",
      "48    False\n",
      "49    False\n",
      "51    False\n",
      "54    False\n",
      "dtype: bool\n"
     ]
    }
   ],
   "source": [
    "df.drop_duplicates(inplace=True)\n",
    "print(df.duplicated())\n"
   ]
  },
  {
   "cell_type": "code",
   "execution_count": 19,
   "metadata": {},
   "outputs": [
    {
     "name": "stdout",
     "output_type": "stream",
     "text": [
      "0     False\n",
      "1     False\n",
      "2     False\n",
      "3     False\n",
      "4      True\n",
      "5      True\n",
      "6     False\n",
      "7     False\n",
      "8     False\n",
      "9     False\n",
      "10    False\n",
      "11    False\n",
      "12    False\n",
      "13    False\n",
      "14     True\n",
      "15    False\n",
      "16    False\n",
      "17    False\n",
      "18    False\n",
      "19    False\n",
      "20    False\n",
      "21    False\n",
      "22    False\n",
      "23    False\n",
      "24    False\n",
      "25    False\n",
      "26    False\n",
      "27    False\n",
      "28    False\n",
      "29    False\n",
      "30    False\n",
      "31    False\n",
      "32    False\n",
      "33    False\n",
      "34    False\n",
      "35    False\n",
      "36    False\n",
      "37    False\n",
      "38    False\n",
      "39    False\n",
      "40    False\n",
      "41    False\n",
      "42    False\n",
      "43    False\n",
      "44    False\n",
      "45    False\n",
      "46    False\n",
      "47    False\n",
      "48    False\n",
      "49    False\n",
      "51     True\n",
      "54     True\n",
      "dtype: bool\n"
     ]
    }
   ],
   "source": [
    "print(df.isnull().any(axis=1))"
   ]
  },
  {
   "cell_type": "code",
   "execution_count": 20,
   "metadata": {},
   "outputs": [
    {
     "name": "stdout",
     "output_type": "stream",
     "text": [
      "    index    company   body-style  wheel-base  length engine-type  num-of-cylinders  horsepower  average-mileage    price\n",
      "0     1.0     Toyota        Sedan       108.1   188.8          V6               6.0       190.0             28.0  22000.0\n",
      "1     2.0      Honda    Hatchback        97.0   169.1          I4               4.0       150.0             32.0  18000.0\n",
      "2     3.0       Ford          SUV       112.5   189.7          V8               8.0       300.0             22.0  35000.0\n",
      "3     4.0        BMW        Coupe       101.2   174.5   In-line-6               6.0       250.0             26.0  45000.0\n",
      "6     7.0   Mercedes        sedan       108.7   193.2          V8               8.0       400.0             21.0  55000.0\n",
      "7     8.0     Nissan    Hatchback        99.0   170.4          I4               4.0       180.0             30.0  25000.0\n",
      "8     9.0     Subaru        Wagon       104.1   184.3     Boxer-4               4.0       170.0             25.0  27000.0\n",
      "9    10.0      Tesla        Sedan       116.5   191.2    Electric               0.0       450.0            130.0  60000.0\n",
      "10   11.0       Ford    Hatchback        98.0   171.0          I4               4.0       160.0             29.0  19000.0\n",
      "11   12.0     Toyota          SUV       110.0   182.0          V6               6.0       210.0             26.0  24000.0\n",
      "12   13.0  Chevrolet        Sedan       104.3   178.5          I4               4.0       130.0             33.0  16000.0\n",
      "13   14.0      Honda        Coupe        98.5   175.2          I4               4.0       145.0             32.0  20000.0\n",
      "15   16.0       Audi  Convertible        99.5   171.8          I4               4.0       190.0             27.0  42000.0\n",
      "16   17.0   Mercedes        Coupe       102.5   176.3          V8               8.0       300.0             24.0  52000.0\n",
      "17   18.0      Tesla          SUV       116.0   193.8    Electric               0.0       500.0            120.0  75000.0\n",
      "18   19.0     Nissan        Sedan       104.0   179.0          I4               4.0       170.0             30.0  23000.0\n",
      "19   20.0     Toyota        Wagon       104.8   182.4          V6               6.0       210.0             25.0  28000.0\n",
      "20   21.0        Kia        Sedan       107.2   184.5          I4               4.0       180.0             32.0  22000.0\n",
      "21   22.0     Subaru          SUV       111.0   183.7     Boxer-4               4.0       200.0             22.0  33000.0\n",
      "22   23.0       Ford        Sedan       106.8   178.0          V6               6.0       240.0             27.0  26000.0\n",
      "23   24.0  Chevrolet          SUV       112.0   189.0          V6               6.0       250.0             20.0  34000.0\n",
      "24   25.0       Audi    Hatchback        98.5   170.8          I4               4.0       160.0             29.0  21000.0\n",
      "25   26.0        BMW  Convertible       101.5   174.7   In-line-6               6.0       270.0             25.0  47000.0\n",
      "26   27.0      Honda        Wagon       104.3   183.4          I4               4.0       190.0             31.0  23000.0\n",
      "27   28.0     Nissan          SUV       110.1   188.0          V6               6.0       220.0             24.0  31000.0\n",
      "28   29.0     Toyota        Sedan       106.4   176.5          I4               4.0       160.0             33.0  18000.0\n",
      "29   30.0      Honda          SUV       109.8   183.2          V6               6.0       230.0             26.0  33000.0\n",
      "30   31.0       Ford        Sedan       107.5   179.9          V6               6.0       210.0             28.0  24000.0\n",
      "31   32.0     Subaru        Sedan       106.0   174.5     Boxer-4               4.0       150.0             30.0  20000.0\n",
      "32   33.0   Mercedes        Wagon       111.4   193.0          V8               8.0       350.0             23.0  45000.0\n",
      "33   34.0      Tesla        Coupe       115.3   191.5    Electric               0.0       400.0            130.0  65000.0\n",
      "34   35.0        Kia    Hatchback        98.3   169.9          I4               4.0       130.0             34.0  18000.0\n",
      "35   36.0   Chrysler          SUV       113.2   188.0          V6               6.0       260.0             22.0  35000.0\n",
      "36   37.0     Nissan  Convertible        99.8   171.5          I4               4.0       175.0             29.0  22000.0\n",
      "37   38.0       Audi          SUV       110.0   180.4          V6               6.0       240.0             23.0  38000.0\n",
      "38   39.0       Ford        Wagon       107.8   184.2          V8               8.0       350.0             21.0  40000.0\n",
      "39   40.0  Chevrolet        Sedan       105.6   178.2          I4               4.0       150.0             31.0  21000.0\n",
      "40   41.0     Toyota        Coupe       101.2   173.8          I4               4.0       170.0             32.0  25000.0\n",
      "41   42.0      Honda        Sedan       108.1   182.9          I4               4.0       180.0             29.0  24000.0\n",
      "42   43.0        BMW          SUV       112.3   185.7    Inline-6               6.0       280.0             24.0  50000.0\n",
      "43   44.0  Chevrolet    Hatchback       100.0   170.0          I4               4.0       160.0             30.0  20000.0\n",
      "44   45.0     Nissan        Coupe        99.2   170.7          I4               4.0       150.0             34.0  18000.0\n",
      "45   46.0      Tesla          SUV       116.7   192.3    Electric               0.0       480.0            120.0  70000.0\n",
      "46   47.0       Ford  Convertible       102.5   174.0          V8               8.0       400.0             20.0  38000.0\n",
      "47   48.0        BMW        Sedan       103.8   179.3   In-line-6               6.0       260.0             25.0  47000.0\n",
      "48   49.0       Audi        Coupe       105.2   181.4          I4               4.0       180.0             28.0  42000.0\n",
      "49   50.0  Chevrolet        Wagon       110.2   185.6          V6               6.0       220.0             22.0  32000.0\n"
     ]
    }
   ],
   "source": [
    "df.dropna(inplace=True)\n",
    "print(df.to_string())"
   ]
  },
  {
   "cell_type": "code",
   "execution_count": 21,
   "metadata": {},
   "outputs": [
    {
     "name": "stdout",
     "output_type": "stream",
     "text": [
      "Ford         6\n",
      "Toyota       5\n",
      "Honda        5\n",
      "Nissan       5\n",
      "Chevrolet    5\n",
      "BMW          4\n",
      "Tesla        4\n",
      "Audi         4\n",
      "Mercedes     3\n",
      "Subaru       3\n",
      "Kia          2\n",
      "Chrysler     1\n",
      "Name: company, dtype: int64\n"
     ]
    }
   ],
   "source": [
    "group=df['company'].value_counts()\n",
    "print(group)\n",
    "\n"
   ]
  },
  {
   "cell_type": "code",
   "execution_count": 38,
   "metadata": {},
   "outputs": [
    {
     "name": "stdout",
     "output_type": "stream",
     "text": [
      "company\n",
      "Audi          26.750000\n",
      "BMW           25.000000\n",
      "Chevrolet     27.200000\n",
      "Chrysler      22.000000\n",
      "Ford          24.500000\n",
      "Honda         30.000000\n",
      "Kia           33.000000\n",
      "Mercedes      22.666667\n",
      "Nissan        29.400000\n",
      "Subaru        25.666667\n",
      "Tesla        125.000000\n",
      "Toyota        28.800000\n",
      "Name: average-mileage, dtype: float64\n"
     ]
    }
   ],
   "source": [
    "#print(f\"Aveage Mileage: {df['average-mileage'].mean()}\")\n",
    "print(df.groupby('company')['average-mileage'].agg('mean'))"
   ]
  },
  {
   "cell_type": "code",
   "execution_count": null,
   "metadata": {},
   "outputs": [
    {
     "name": "stdout",
     "output_type": "stream",
     "text": [
      "               max\n",
      "company           \n",
      "Audi       42000.0\n",
      "BMW        50000.0\n",
      "Chevrolet  34000.0\n",
      "Chrysler   35000.0\n",
      "Ford       40000.0\n",
      "Honda      33000.0\n",
      "Kia        22000.0\n",
      "Mercedes   55000.0\n",
      "Nissan     31000.0\n",
      "Subaru     33000.0\n",
      "Tesla      75000.0\n",
      "Toyota     28000.0\n"
     ]
    }
   ],
   "source": [
    "#high_price=df['price'].max()\n",
    "#print(df.loc[df['price']==high_price,['company','price']])\n",
    "agg_price=df.groupby('company')['price'].agg(['max'])\n",
    "print(agg_price)"
   ]
  }
 ],
 "metadata": {
  "kernelspec": {
   "display_name": "Python 3",
   "language": "python",
   "name": "python3"
  },
  "language_info": {
   "codemirror_mode": {
    "name": "ipython",
    "version": 3
   },
   "file_extension": ".py",
   "mimetype": "text/x-python",
   "name": "python",
   "nbconvert_exporter": "python",
   "pygments_lexer": "ipython3",
   "version": "3.11.1"
  }
 },
 "nbformat": 4,
 "nbformat_minor": 2
}
