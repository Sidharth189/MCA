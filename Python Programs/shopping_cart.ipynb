{
 "cells": [
  {
   "cell_type": "code",
   "execution_count": 14,
   "metadata": {},
   "outputs": [],
   "source": [
    "import pandas as pd"
   ]
  },
  {
   "cell_type": "code",
   "execution_count": null,
   "metadata": {},
   "outputs": [],
   "source": [
    "class Shopping_Cart:\n",
    "    def __init__(self):\n",
    "        self.cart=[]\n",
    "    \n",
    "    def add_item(self):\n",
    "        name=input(\"Enter the item name: \")\n",
    "        price=float(input(\"Enter the price: \"))\n",
    "        data=(name,price)\n",
    "        (self.cart).append(data)\n",
    "    \n",
    "    def remove_item(self):\n",
    "        name=input(\"Enter the item name: \")\n",
    "        for i in range(len(self.cart)):\n",
    "            for j in (self.cart)[i]:\n",
    "                if(j==name):\n",
    "                    (self.cart).pop(i)\n",
    "                    break\n",
    "        if(f==0):\n",
    "            print(\"Item not found !!\")\n",
    "\n",
    "    def display_cart(self):\n",
    "        print(pd.DataFrame(self.cart,columns=['Item','Price']))\n",
    "        pass\n"
   ]
  },
  {
   "cell_type": "code",
   "execution_count": null,
   "metadata": {},
   "outputs": [],
   "source": [
    "p1=Shopping_Cart()"
   ]
  },
  {
   "cell_type": "code",
   "execution_count": null,
   "metadata": {},
   "outputs": [],
   "source": [
    "p1.add_item()\n",
    "p1.add_item()\n",
    "p1.remove_item()    "
   ]
  }
 ],
 "metadata": {
  "kernelspec": {
   "display_name": "Python 3",
   "language": "python",
   "name": "python3"
  },
  "language_info": {
   "codemirror_mode": {
    "name": "ipython",
    "version": 3
   },
   "file_extension": ".py",
   "mimetype": "text/x-python",
   "name": "python",
   "nbconvert_exporter": "python",
   "pygments_lexer": "ipython3",
   "version": "3.11.1"
  }
 },
 "nbformat": 4,
 "nbformat_minor": 2
}
