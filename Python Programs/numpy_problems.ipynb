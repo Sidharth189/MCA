{
 "cells": [
  {
   "cell_type": "code",
   "execution_count": null,
   "metadata": {},
   "outputs": [],
   "source": [
    "import numpy as np\n",
    "import random as rd"
   ]
  },
  {
   "cell_type": "markdown",
   "metadata": {},
   "source": []
  },
  {
   "cell_type": "code",
   "execution_count": 20,
   "metadata": {},
   "outputs": [
    {
     "name": "stdout",
     "output_type": "stream",
     "text": [
      "[91  9 75 78  5 79 81 33 64 80  1 24 62 95 78 51 27 31 87 34 30 16 56 41\n",
      " 45]\n",
      "[ 1  5  9 16 24 27 30 31 33 34 41 45 51 56 62 64 75 78 79 80 81 87 91 95]\n"
     ]
    }
   ],
   "source": [
    "#arr=np.random.randint(1,100,size=(5,5))\n",
    "data=[rd.randint(1,100) for i in range(25)]\n",
    "arr=np.array(data)\n",
    "print(arr)\n",
    "unique_elements=np.unique(arr)\n",
    "print(unique_elements)"
   ]
  }
 ],
 "metadata": {
  "kernelspec": {
   "display_name": "Python 3",
   "language": "python",
   "name": "python3"
  },
  "language_info": {
   "codemirror_mode": {
    "name": "ipython",
    "version": 3
   },
   "file_extension": ".py",
   "mimetype": "text/x-python",
   "name": "python",
   "nbconvert_exporter": "python",
   "pygments_lexer": "ipython3",
   "version": "3.11.1"
  }
 },
 "nbformat": 4,
 "nbformat_minor": 2
}
