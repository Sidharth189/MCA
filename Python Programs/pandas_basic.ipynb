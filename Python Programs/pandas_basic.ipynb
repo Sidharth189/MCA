{
 "cells": [
  {
   "cell_type": "code",
   "execution_count": 1,
   "metadata": {},
   "outputs": [],
   "source": [
    "import pandas as pd"
   ]
  },
  {
   "cell_type": "code",
   "execution_count": 8,
   "metadata": {},
   "outputs": [
    {
     "name": "stdout",
     "output_type": "stream",
     "text": [
      "1    1\n",
      "2    2\n",
      "3    3\n",
      "4    4\n",
      "5    5\n",
      "dtype: int64\n"
     ]
    }
   ],
   "source": [
    "data=[1,2,3,4,5]\n",
    "s=pd.Series(data,index=[i for i in range(1,6)])\n",
    "print(s)"
   ]
  },
  {
   "cell_type": "code",
   "execution_count": 20,
   "metadata": {},
   "outputs": [
    {
     "name": "stdout",
     "output_type": "stream",
     "text": [
      "       Name  Marks\n",
      "1  Sidharth     70\n",
      "2   Jyothis     75\n",
      "3      Ayan     80\n"
     ]
    }
   ],
   "source": [
    "data={'Name':['Sidharth','Jyothis','Ayan'],'Marks':[70,75,80]}\n",
    "df=pd.DataFrame(data,index=[\"1\",\"2\",\"3\"])\n",
    "print(df)"
   ]
  },
  {
   "cell_type": "markdown",
   "metadata": {},
   "source": [
    "## Loc Atrribute\n",
    "    return one or more rows. Used to locate row."
   ]
  },
  {
   "cell_type": "code",
   "execution_count": 24,
   "metadata": {},
   "outputs": [
    {
     "name": "stdout",
     "output_type": "stream",
     "text": [
      "Name     Sidharth\n",
      "Marks          70\n",
      "Name: 1, dtype: object\n"
     ]
    }
   ],
   "source": [
    "#print(df.loc[0])\n",
    "#print(df.loc[[0,1]])\n",
    "print(df.loc[\"1\"]) #locate named index"
   ]
  }
 ],
 "metadata": {
  "kernelspec": {
   "display_name": "Python 3",
   "language": "python",
   "name": "python3"
  },
  "language_info": {
   "codemirror_mode": {
    "name": "ipython",
    "version": 3
   },
   "file_extension": ".py",
   "mimetype": "text/x-python",
   "name": "python",
   "nbconvert_exporter": "python",
   "pygments_lexer": "ipython3",
   "version": "3.11.1"
  }
 },
 "nbformat": 4,
 "nbformat_minor": 2
}
