{
 "cells": [
  {
   "cell_type": "code",
   "execution_count": 6,
   "metadata": {},
   "outputs": [
    {
     "name": "stdout",
     "output_type": "stream",
     "text": [
      "Mark not in scope !!\n"
     ]
    }
   ],
   "source": [
    "class Student:\n",
    "    def __init__(self,mark):\n",
    "        self.mark=mark\n",
    "        self.set_marks()\n",
    "\n",
    "    def set_marks(self):\n",
    "        if(self.mark<0 or self.mark>100):\n",
    "            raise ValueError(\"Mark not in scope !!\")\n",
    "\n",
    "try:\n",
    "    mark=int(input(\"Enter mark: \"))\n",
    "    s1=Student(mark)\n",
    "except ValueError as e:\n",
    "    print(e)"
   ]
  }
 ],
 "metadata": {
  "kernelspec": {
   "display_name": "Python 3",
   "language": "python",
   "name": "python3"
  },
  "language_info": {
   "codemirror_mode": {
    "name": "ipython",
    "version": 3
   },
   "file_extension": ".py",
   "mimetype": "text/x-python",
   "name": "python",
   "nbconvert_exporter": "python",
   "pygments_lexer": "ipython3",
   "version": "3.11.1"
  }
 },
 "nbformat": 4,
 "nbformat_minor": 2
}
