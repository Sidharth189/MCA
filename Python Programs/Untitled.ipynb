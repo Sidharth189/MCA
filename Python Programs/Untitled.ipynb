{
 "cells": [
  {
   "cell_type": "markdown",
   "id": "10b79177",
   "metadata": {},
   "source": [
    "## To check the version of numpy"
   ]
  },
  {
   "cell_type": "code",
   "execution_count": null,
   "id": "bc758d32",
   "metadata": {},
   "outputs": [],
   "source": [
    "import numpy as np\n",
    "print(np.__version__)"
   ]
  },
  {
   "cell_type": "markdown",
   "id": "50232612",
   "metadata": {},
   "source": [
    "## Create an array"
   ]
  },
  {
   "cell_type": "code",
   "execution_count": 7,
   "id": "0c240160",
   "metadata": {},
   "outputs": [
    {
     "name": "stdout",
     "output_type": "stream",
     "text": [
      "[1 2 3 4]\n"
     ]
    }
   ],
   "source": [
    "arr=np.array([1,2,3,4])\n",
    "print(arr)"
   ]
  },
  {
   "cell_type": "markdown",
   "id": "f43d2c5c",
   "metadata": {},
   "source": [
    "# 0-D Array"
   ]
  },
  {
   "cell_type": "code",
   "execution_count": 8,
   "id": "b4d88855",
   "metadata": {},
   "outputs": [
    {
     "name": "stdout",
     "output_type": "stream",
     "text": [
      "41\n"
     ]
    }
   ],
   "source": [
    "arr=np.array(41)\n",
    "print(arr)"
   ]
  },
  {
   "cell_type": "markdown",
   "id": "4150e7b3",
   "metadata": {},
   "source": [
    "## 3-D Array"
   ]
  },
  {
   "cell_type": "code",
   "execution_count": null,
   "id": "51ab31d9",
   "metadata": {},
   "outputs": [],
   "source": [
    "arr="
   ]
  }
 ],
 "metadata": {
  "kernelspec": {
   "display_name": "Python 3 (ipykernel)",
   "language": "python",
   "name": "python3"
  },
  "language_info": {
   "codemirror_mode": {
    "name": "ipython",
    "version": 3
   },
   "file_extension": ".py",
   "mimetype": "text/x-python",
   "name": "python",
   "nbconvert_exporter": "python",
   "pygments_lexer": "ipython3",
   "version": "3.11.1"
  }
 },
 "nbformat": 4,
 "nbformat_minor": 5
}
