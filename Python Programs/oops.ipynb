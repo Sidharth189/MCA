{
 "cells": [
  {
   "cell_type": "code",
   "execution_count": 3,
   "metadata": {},
   "outputs": [
    {
     "name": "stdout",
     "output_type": "stream",
     "text": [
      "<__main__.Rectangles object at 0x00000274EC2960D0> less than <__main__.Rectangles object at 0x00000274ECAAE590>\n"
     ]
    }
   ],
   "source": [
    "class Rectangles:\n",
    "    def __init__(self,leng,wid):\n",
    "        self.len=leng\n",
    "        self.wid=wid\n",
    "        self.area=self.len*self.wid\n",
    "    \n",
    "    def __lt__(self,obj):\n",
    "        if(self.area<obj.area):\n",
    "            print(f\"{self} less than {obj}\")\n",
    "        else:\n",
    "            print(f\"{obj} less than {self}\")\n",
    "\n",
    "shape1=Rectangles(20,30)\n",
    "shape2=Rectangles(10,40)\n",
    "shape1<shape2"
   ]
  }
 ],
 "metadata": {
  "kernelspec": {
   "display_name": "Python 3",
   "language": "python",
   "name": "python3"
  },
  "language_info": {
   "codemirror_mode": {
    "name": "ipython",
    "version": 3
   },
   "file_extension": ".py",
   "mimetype": "text/x-python",
   "name": "python",
   "nbconvert_exporter": "python",
   "pygments_lexer": "ipython3",
   "version": "3.11.1"
  }
 },
 "nbformat": 4,
 "nbformat_minor": 2
}
